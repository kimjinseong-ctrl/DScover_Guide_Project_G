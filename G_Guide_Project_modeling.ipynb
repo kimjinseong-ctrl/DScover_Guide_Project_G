{
  "nbformat": 4,
  "nbformat_minor": 0,
  "metadata": {
    "colab": {
      "provenance": [],
      "authorship_tag": "ABX9TyPLkz2P8E2nevtqIzd3b0QY",
      "include_colab_link": true
    },
    "kernelspec": {
      "name": "python3",
      "display_name": "Python 3"
    },
    "language_info": {
      "name": "python"
    }
  },
  "cells": [
    {
      "cell_type": "markdown",
      "metadata": {
        "id": "view-in-github",
        "colab_type": "text"
      },
      "source": [
        "<a href=\"https://colab.research.google.com/github/kimjinseong-ctrl/DScover_Guide_Project_G/blob/main/G_Guide_Project_modeling.ipynb\" target=\"_parent\"><img src=\"https://colab.research.google.com/assets/colab-badge.svg\" alt=\"Open In Colab\"/></a>"
      ]
    },
    {
      "cell_type": "markdown",
      "source": [
        "라이브러리 및 폰트 저장"
      ],
      "metadata": {
        "id": "y7FqWNo86gGm"
      }
    },
    {
      "cell_type": "code",
      "source": [
        "import pandas as pd\n",
        "import numpy as np\n",
        "import xgboost as xgb\n",
        "from sklearn.metrics import mean_squared_error, r2_score, mean_absolute_error, silhouette_score\n",
        "from sklearn.cluster import KMeans\n",
        "from sklearn.preprocessing import StandardScaler\n",
        "from sklearn.inspection import permutation_importance\n",
        "import warnings\n",
        "import os\n",
        "import urllib.request\n",
        "from matplotlib import font_manager\n",
        "import matplotlib.pyplot as plt\n",
        "import seaborn as sns\n",
        "\n",
        "font_path = 'NanumGothic.ttf'\n",
        "if not os.path.exists(font_path):\n",
        "    print(\"나눔고딕 폰트를 다운로드합니다...\")\n",
        "    url = 'https://github.com/google/fonts/raw/main/ofl/nanumgothic/NanumGothic-Regular.ttf'\n",
        "    try:\n",
        "        urllib.request.urlretrieve(url, font_path)\n",
        "        print(\"폰트 다운로드 완료.\")\n",
        "    except Exception as e:\n",
        "        print(f\"폰트 다운로드 중 오류가 발생했습니다: {e}\")\n",
        "        font_path = None\n",
        "if font_path:\n",
        "    font_prop = font_manager.FontProperties(fname=font_path)\n",
        "    print(f\"'{font_path}' 폰트를 그래프에 적용합니다.\")\n",
        "else:\n",
        "    font_prop = None\n",
        "    print(\"한글 폰트를 설정할 수 없어, 텍스트가 깨질 수 있습니다.\")\n",
        "plt.rcParams['axes.unicode_minus'] = False"
      ],
      "metadata": {
        "colab": {
          "base_uri": "https://localhost:8080/"
        },
        "id": "OFKObAYR6fDG",
        "outputId": "5d5beca5-e2e5-4f06-840b-93272e07551f"
      },
      "execution_count": 21,
      "outputs": [
        {
          "output_type": "stream",
          "name": "stdout",
          "text": [
            "'NanumGothic.ttf' 폰트를 그래프에 적용합니다.\n"
          ]
        }
      ]
    },
    {
      "cell_type": "markdown",
      "source": [
        "데이터 로딩"
      ],
      "metadata": {
        "id": "YXUjkE896vZN"
      }
    },
    {
      "cell_type": "code",
      "source": [
        "# --- SMAPE 계산 함수 정의 ---\n",
        "def smape(actual, forecast):\n",
        "    epsilon = 1e-10\n",
        "    return np.mean(2 * np.abs(forecast - actual) / (np.abs(actual) + np.abs(forecast) + epsilon)) * 100\n",
        "\n",
        "train_df = pd.read_csv('train.csv', encoding='utf-8')\n",
        "test_df = pd.read_csv('test.csv', encoding='utf-8', dtype={'num_date_time': str})\n",
        "building_info_df = pd.read_csv('building_info.csv', encoding='utf-8')\n"
      ],
      "metadata": {
        "id": "-MSF5lDJ6wEu"
      },
      "execution_count": 22,
      "outputs": []
    },
    {
      "cell_type": "markdown",
      "source": [
        "건물 그룹핑"
      ],
      "metadata": {
        "id": "Ba8U50fr7G52"
      }
    },
    {
      "cell_type": "code",
      "source": [
        "cluster_df = pd.merge(train_df, building_info_df, on='건물번호', how='left')\n",
        "cluster_df['일시_dt'] = pd.to_datetime(cluster_df['일시'], format='%Y%m%d %H')\n",
        "cluster_df['hour'] = cluster_df['일시_dt'].dt.hour\n",
        "cluster_df['weekday'] = cluster_df['일시_dt'].dt.weekday\n",
        "\n",
        "hourly_profile = cluster_df.groupby(['건물유형', 'hour'])['전력소비량(kWh)'].mean().unstack().fillna(0)\n",
        "weekday_profile = cluster_df.groupby(['건물유형', 'weekday'])['전력소비량(kWh)'].mean().unstack().fillna(0)\n",
        "building_type_profiles = pd.concat([hourly_profile, weekday_profile], axis=1)\n",
        "\n",
        "scaler = StandardScaler()\n",
        "scaled_profiles = scaler.fit_transform(building_type_profiles)\n",
        "kmeans = KMeans(n_clusters=3, random_state=42, n_init='auto')\n",
        "building_type_profiles['cluster'] = kmeans.fit_predict(scaled_profiles)\n",
        "cluster_map = building_type_profiles[['cluster']].reset_index()\n",
        "building_info_df = pd.merge(building_info_df, cluster_map, on='건물유형', how='left')\n"
      ],
      "metadata": {
        "id": "gQvbE0eI7Iuz"
      },
      "execution_count": 23,
      "outputs": []
    },
    {
      "cell_type": "markdown",
      "source": [
        "Feature Enginnering"
      ],
      "metadata": {
        "id": "0Elwrpu17TuZ"
      }
    },
    {
      "cell_type": "code",
      "source": [
        "# 이상치 처리\n",
        "train_df['일시_dt_temp'] = pd.to_datetime(train_df['일시'], format='%Y%m%d %H')\n",
        "train_df['hour_temp'] = train_df['일시_dt_temp'].dt.hour\n",
        "train_df['weekday_temp'] = train_df['일시_dt_temp'].dt.weekday\n",
        "for building_num in train_df['건물번호'].unique():\n",
        "    building_mask = train_df['건물번호'] == building_num\n",
        "    power_series = train_df.loc[building_mask, '전력소비량(kWh)']\n",
        "    Q1, Q3 = power_series.quantile(0.25), power_series.quantile(0.75)\n",
        "    IQR = Q3 - Q1\n",
        "    lower_bound, upper_bound = Q1 - 1.5 * IQR, Q3 + 1.5 * IQR\n",
        "    outlier_indices = power_series[(power_series < lower_bound) | (power_series > upper_bound)].index\n",
        "    if not outlier_indices.empty:\n",
        "        non_outlier_mask = building_mask & ~train_df.index.isin(outlier_indices)\n",
        "        replacement_map = train_df.loc[non_outlier_mask].groupby(['weekday_temp', 'hour_temp'])['전력소비량(kWh)'].mean()\n",
        "        for idx in outlier_indices:\n",
        "            weekday, hour = train_df.loc[idx, 'weekday_temp'], train_df.loc[idx, 'hour_temp']\n",
        "            replacement_value = replacement_map.get((weekday, hour), power_series.median())\n",
        "            train_df.loc[idx, '전력소비량(kWh)'] = replacement_value\n",
        "train_df = train_df.drop(columns=['일시_dt_temp', 'hour_temp', 'weekday_temp'])\n",
        "\n",
        "# Combine train and test for consistent feature creation\n",
        "test_df['전력소비량(kWh)'] = np.nan\n",
        "all_df = pd.concat([train_df, test_df], ignore_index=True)\n",
        "\n",
        "# 변수 제거 및 추가\n",
        "all_df = all_df.drop(columns=['일조(hr)', '일사(MJ/m2)'])\n",
        "all_df = pd.merge(all_df, building_info_df.drop(columns=['건물유형']), on='건물번호', how='left')\n",
        "\n",
        "# 파생변수 생성\n",
        "holidays = ['2024-06-06', '2024-08-15'] # test 기간에 해당하는 공휴일만 사용\n",
        "all_df['일시_dt'] = pd.to_datetime(all_df['일시'], format='%Y%m%d %H')\n",
        "all_df['주말여부'] = all_df['일시_dt'].dt.weekday.isin([5, 6]).astype(int)\n",
        "all_df['is_holiday'] = all_df['일시_dt'].dt.date.astype(str).isin(holidays).astype(int)\n",
        "best_bp = 24\n",
        "all_df['냉방도일'] = (all_df['기온(°C)'] > best_bp) * (all_df['기온(°C)'] - best_bp)\n",
        "all_df['hour'] = all_df['일시_dt'].dt.hour\n",
        "all_df['weekday'] = all_df['일시_dt'].dt.weekday\n",
        "all_df['month'] = all_df['일시_dt'].dt.month\n",
        "all_df['day'] = all_df['일시_dt'].dt.day\n",
        "\n",
        "# 주기성: 삼각함수, Lag, 이동평균\n",
        "all_df['hour_sin'] = np.sin(2 * np.pi * all_df['hour'] / 24)\n",
        "all_df['hour_cos'] = np.cos(2 * np.pi * all_df['hour'] / 24)\n",
        "all_df['weekday_sin'] = np.sin(2 * np.pi * all_df['weekday'] / 7)\n",
        "all_df['weekday_cos'] = np.cos(2 * np.pi * all_df['weekday'] / 7)\n",
        "all_df = all_df.sort_values(by=['건물번호', '일시'])\n",
        "# [수정] 단기 Lag 변수인 lag_1h를 제외합니다.\n",
        "# all_df['lag_1h'] = all_df.groupby('건물번호')['전력소비량(kWh)'].shift(1)\n",
        "all_df['MA_24h'] = all_df.groupby('건물번호')['전력소비량(kWh)'].shift(1).rolling(window=24).mean()\n",
        "all_df['MA_168h'] = all_df.groupby('건물번호')['전력소비량(kWh)'].shift(1).rolling(window=168).mean()\n",
        "\n",
        "# K-Means 클러스터 라벨을 변수로 사용\n",
        "all_df = pd.get_dummies(all_df, columns=['cluster'], prefix='cluster')"
      ],
      "metadata": {
        "id": "_VzlO4yp7Wvg"
      },
      "execution_count": 24,
      "outputs": []
    },
    {
      "cell_type": "markdown",
      "source": [
        "모델 학습 및 예측"
      ],
      "metadata": {
        "id": "YQCjyKri8RuP"
      }
    },
    {
      "cell_type": "code",
      "execution_count": 25,
      "metadata": {
        "colab": {
          "base_uri": "https://localhost:8080/"
        },
        "id": "tH3to1in6YZW",
        "outputId": "b36c23e8-a525-430d-9ee3-3b07bca088eb"
      },
      "outputs": [
        {
          "output_type": "stream",
          "name": "stderr",
          "text": [
            "/tmp/ipython-input-2539027727.py:6: FutureWarning: DataFrame.fillna with 'method' is deprecated and will raise in a future version. Use obj.ffill() or obj.bfill() instead.\n",
            "  train_processed_df.fillna(method='bfill', inplace=True)\n",
            "/tmp/ipython-input-2539027727.py:7: FutureWarning: DataFrame.fillna with 'method' is deprecated and will raise in a future version. Use obj.ffill() or obj.bfill() instead.\n",
            "  train_processed_df.fillna(method='ffill', inplace=True)\n",
            "/tmp/ipython-input-2539027727.py:8: FutureWarning: DataFrame.fillna with 'method' is deprecated and will raise in a future version. Use obj.ffill() or obj.bfill() instead.\n",
            "  test_processed_df.fillna(method='bfill', inplace=True)\n",
            "/tmp/ipython-input-2539027727.py:9: FutureWarning: DataFrame.fillna with 'method' is deprecated and will raise in a future version. Use obj.ffill() or obj.bfill() instead.\n",
            "  test_processed_df.fillna(method='ffill', inplace=True)\n"
          ]
        },
        {
          "output_type": "stream",
          "name": "stdout",
          "text": [
            "\n",
            "  >> 총 24개 변수 중 22개의 유효 변수를 선택했습니다.\n",
            "------------------------------------\n",
            "\n",
            "각 건물별 모델 학습, 평가 및 예측을 시작합니다...\n",
            "  ... 10번 건물 처리 완료.\n",
            "  ... 20번 건물 처리 완료.\n",
            "  ... 30번 건물 처리 완료.\n",
            "  ... 40번 건물 처리 완료.\n",
            "  ... 50번 건물 처리 완료.\n",
            "  ... 60번 건물 처리 완료.\n",
            "  ... 70번 건물 처리 완료.\n",
            "  ... 80번 건물 처리 완료.\n",
            "  ... 90번 건물 처리 완료.\n",
            "  ... 100번 건물 처리 완료.\n",
            "\n",
            "--- 모델 성능 평가 결과 (시간 기반 검증 적용) ---\n",
            "Average RMSE (평균 오차): 238.631 kWh\n",
            "Average MAE (평균 절대 오차): 168.457 kWh\n",
            "Average R2 Score (모델 설명력): 0.470\n",
            "Average SMAPE (실제 예상 점수): 6.251 %\n",
            "'submission_v2.csv' 파일 생성이 완료되었습니다.\n"
          ]
        }
      ],
      "source": [
        "all_df = all_df.drop(columns=['일시_dt', 'hour', 'weekday'])\n",
        "train_processed_df = all_df[all_df['전력소비량(kWh)'].notna()].copy()\n",
        "test_processed_df = all_df[all_df['전력소비량(kWh)'].isna()].drop(columns=['전력소비량(kWh)'])\n",
        "\n",
        "# 결측치 처리\n",
        "train_processed_df.fillna(method='bfill', inplace=True)\n",
        "train_processed_df.fillna(method='ffill', inplace=True)\n",
        "test_processed_df.fillna(method='bfill', inplace=True)\n",
        "test_processed_df.fillna(method='ffill', inplace=True)\n",
        "\n",
        "train_final_df = train_processed_df\n",
        "test_final_df = test_processed_df\n",
        "for df in [train_final_df, test_final_df]:\n",
        "    for col in ['태양광용량(kW)', 'ESS저장용량(kWh)', 'PCS용량(kW)']:\n",
        "        if col in df.columns:\n",
        "            df[col] = df[col].replace('-', 0).astype(float).fillna(0)\n",
        "\n",
        "target = '전력소비량(kWh)'\n",
        "\n",
        "\n",
        "train_final_df[target] = np.log1p(train_final_df[target])\n",
        "\n",
        "train_cols = [col for col in train_final_df.columns if col != target]\n",
        "test_final_df = test_final_df.reindex(columns=train_cols, fill_value=0)\n",
        "initial_features = [col for col in train_cols if col not in ['num_date_time', '일시']]\n",
        "\n",
        "X_fs = train_final_df[initial_features]\n",
        "y_fs = train_final_df[target]\n",
        "\n",
        "from sklearn.model_selection import train_test_split\n",
        "X_train_fs, X_val_fs, y_train_fs, y_val_fs = train_test_split(X_fs, y_fs, test_size=0.2, random_state=42)\n",
        "\n",
        "perm_model = xgb.XGBRegressor(objective='reg:squarederror', n_estimators=500, learning_rate=0.05, max_depth=5, random_state=42, n_jobs=-1)\n",
        "perm_model.fit(X_train_fs, y_train_fs)\n",
        "\n",
        "result = permutation_importance(perm_model, X_val_fs, y_val_fs, n_repeats=5, random_state=42, n_jobs=-1)\n",
        "perm_importances = pd.DataFrame({'feature': initial_features, 'importance_mean': result.importances_mean})\n",
        "perm_importances = perm_importances.sort_values(by='importance_mean', ascending=False)\n",
        "ranked_features = perm_importances[perm_importances['importance_mean'] > 1e-5]['feature'].tolist()\n",
        "selected_features = ranked_features\n",
        "print(f\"\\n  >> 총 {len(initial_features)}개 변수 중 {len(ranked_features)}개의 유효 변수를 선택했습니다.\")\n",
        "print(\"------------------------------------\")\n",
        "\n",
        "evaluation_results = []\n",
        "all_predictions = []\n",
        "print(\"\\n각 건물별 모델 학습, 평가 및 예측을 시작합니다...\")\n",
        "\n",
        "for building_num in range(1, 101):\n",
        "    train_building = train_final_df[train_final_df['건물번호'] == building_num]\n",
        "    test_building = test_final_df[test_final_df['건물번호'] == building_num]\n",
        "\n",
        "    X = train_building[selected_features]\n",
        "    y = train_building[target]\n",
        "    X_test = test_building[selected_features]\n",
        "\n",
        "\n",
        "    split_point = int(len(X) * 0.8)\n",
        "    X_train_split, X_val = X.iloc[:split_point], X.iloc[split_point:]\n",
        "    y_train_split, y_val = y.iloc[:split_point], y.iloc[split_point:]\n",
        "\n",
        "    eval_model = xgb.XGBRegressor(objective='reg:squarederror', n_estimators=1000, learning_rate=0.05, max_depth=5, subsample=0.8, colsample_bytree=0.8, random_state=42, n_jobs=-1, early_stopping_rounds=50)\n",
        "    eval_model.fit(X_train_split, y_train_split, eval_set=[(X_val, y_val)], verbose=False)\n",
        "\n",
        "    y_pred_log = eval_model.predict(X_val)\n",
        "\n",
        "\n",
        "    y_val_original = np.expm1(y_val)\n",
        "    y_pred_original = np.expm1(y_pred_log)\n",
        "    y_pred_original[y_pred_original < 0] = 0 # 전력량은 음수가 될 수 없으므로 0으로 처리\n",
        "\n",
        "    rmse = np.sqrt(mean_squared_error(y_val_original, y_pred_original))\n",
        "    mae = mean_absolute_error(y_val_original, y_pred_original)\n",
        "    r2 = r2_score(y_val_original, y_pred_original)\n",
        "    smape_score = smape(y_val_original, y_pred_original)\n",
        "    evaluation_results.append({'건물번호': building_num, 'RMSE': rmse, 'MAE': mae, 'R2': r2, 'SMAPE': smape_score})\n",
        "\n",
        "\n",
        "    final_model = xgb.XGBRegressor(objective='reg:squarederror', n_estimators=1000, learning_rate=0.05, max_depth=5, subsample=0.8, colsample_bytree=0.8, random_state=42, n_jobs=-1)\n",
        "    final_model.fit(X, y)\n",
        "\n",
        "    final_preds_log = final_model.predict(X_test)\n",
        "\n",
        "    final_preds = np.expm1(final_preds_log)\n",
        "    final_preds[final_preds < 0] = 0 # 음수 예측값 0으로 처리\n",
        "\n",
        "    pred_df = pd.DataFrame({'num_date_time': test_building['num_date_time'].values, 'answer': final_preds})\n",
        "    all_predictions.append(pred_df)\n",
        "\n",
        "    if building_num % 10 == 0:\n",
        "        print(f\"  ... {building_num}번 건물 처리 완료.\")\n",
        "\n",
        "results_df = pd.DataFrame(evaluation_results)\n",
        "average_performance = results_df.drop(columns='건물번호').mean()\n",
        "print(\"\\n--- 모델 성능 평가 결과 (시간 기반 검증 적용) ---\")\n",
        "print(f\"Average RMSE (평균 오차): {average_performance['RMSE']:.3f} kWh\")\n",
        "print(f\"Average MAE (평균 절대 오차): {average_performance['MAE']:.3f} kWh\")\n",
        "print(f\"Average R2 Score (모델 설명력): {average_performance['R2']:.3f}\")\n",
        "print(f\"Average SMAPE (실제 예상 점수): {average_performance['SMAPE']:.3f} %\")\n",
        "\n",
        "submission_df = pd.concat(all_predictions, ignore_index=True)\n",
        "sample_submission_df = pd.read_csv('sample_submission.csv')\n",
        "submission_df = submission_df.set_index('num_date_time').reindex(sample_submission_df['num_date_time']).reset_index()\n",
        "\n",
        "submission_df.to_csv('submission_v2.csv', index=False, encoding='utf-8')\n",
        "print(\"'submission_v2.csv' 파일 생성이 완료되었습니다.\")\n",
        "\n"
      ]
    }
  ]
}